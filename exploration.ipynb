{
 "cells": [
  {
   "cell_type": "code",
   "execution_count": 15,
   "id": "cc347e02",
   "metadata": {},
   "outputs": [],
   "source": [
    "import pandas as pd"
   ]
  },
  {
   "cell_type": "code",
   "execution_count": 16,
   "id": "a6ce5711",
   "metadata": {},
   "outputs": [],
   "source": [
    "md = pd.read_csv('final-analysis-metadata.tsv', sep='\\t')\n",
    "distances = pd.read_csv('distance-matrix.tsv', sep='\\t', index_col=0)"
   ]
  },
  {
   "cell_type": "code",
   "execution_count": 17,
   "id": "c733e274",
   "metadata": {},
   "outputs": [],
   "source": [
    "md = md[md['Sample-Type'].isin([\n",
    "    'Self Sample', 'EMP-Soils', 'Food-Compost', 'Compost Post-Roll'\n",
    "    ])]\n",
    "md_ids = set(md['sample-id'])"
   ]
  },
  {
   "cell_type": "code",
   "execution_count": 18,
   "id": "6396f286",
   "metadata": {},
   "outputs": [],
   "source": [
    "dis_ids = set(distances.index)"
   ]
  },
  {
   "cell_type": "code",
   "execution_count": 19,
   "id": "2bfb46fa",
   "metadata": {},
   "outputs": [
    {
     "name": "stdout",
     "output_type": "stream",
     "text": [
      "md 1031 dis 884\n",
      "intersection 843\n"
     ]
    }
   ],
   "source": [
    "print('md', len(md_ids), 'dis', len(dis_ids))\n",
    "print('intersection', len(dis_ids & md_ids))"
   ]
  },
  {
   "cell_type": "code",
   "execution_count": 21,
   "id": "36443b53",
   "metadata": {},
   "outputs": [],
   "source": [
    "missing = md_ids - dis_ids\n",
    "\n",
    "with open('missing-ids.txt', 'w') as fh:\n",
    "    for id in missing:\n",
    "        fh.write(f'{id}\\n')"
   ]
  },
  {
   "cell_type": "code",
   "execution_count": null,
   "id": "492c692b",
   "metadata": {},
   "outputs": [],
   "source": []
  }
 ],
 "metadata": {
  "kernelspec": {
   "display_name": "Python 3 (ipykernel)",
   "language": "python",
   "name": "python3"
  },
  "language_info": {
   "codemirror_mode": {
    "name": "ipython",
    "version": 3
   },
   "file_extension": ".py",
   "mimetype": "text/x-python",
   "name": "python",
   "nbconvert_exporter": "python",
   "pygments_lexer": "ipython3",
   "version": "3.8.17"
  }
 },
 "nbformat": 4,
 "nbformat_minor": 5
}
